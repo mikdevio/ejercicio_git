{
 "cells": [
  {
   "cell_type": "code",
   "execution_count": null,
   "id": "1aba8890",
   "metadata": {},
   "outputs": [],
   "source": [
    "print(\"Hola soy un Jupyter notebook\")"
   ]
  }
 ],
 "metadata": {
  "language_info": {
   "name": "python"
  }
 },
 "nbformat": 4,
 "nbformat_minor": 5
}
